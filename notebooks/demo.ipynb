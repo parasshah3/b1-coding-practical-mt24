{
 "cells": [
  {
   "cell_type": "code",
   "execution_count": 39,
   "metadata": {},
   "outputs": [],
   "source": [
    "# Add relevant Jupyter notebook extensions\n",
    "%reload_ext autoreload\n",
    "%autoreload 2\n",
    "\n",
    "import uuv_mission.dynamic\n",
    "import uuv_mission.terrain"
   ]
  },
  {
   "cell_type": "code",
   "execution_count": 40,
   "metadata": {},
   "outputs": [
    {
     "name": "stdout",
     "output_type": "stream",
     "text": [
      "['/Users/paras/Library/CloudStorage/OneDrive-Nexus365/Oxford/Y3/B1/Scientific Coding/Scientific Coding Practical/B1 Coding Practical MT24', '/Users/paras/Library/CloudStorage/OneDrive-Nexus365/Oxford/Y3/B1/Scientific Coding/Scientific Coding Practical/B1 Coding Practical MT24/notebooks', '/Library/Developer/CommandLineTools/Library/Frameworks/Python3.framework/Versions/3.9/lib/python39.zip', '/Library/Developer/CommandLineTools/Library/Frameworks/Python3.framework/Versions/3.9/lib/python3.9', '/Library/Developer/CommandLineTools/Library/Frameworks/Python3.framework/Versions/3.9/lib/python3.9/lib-dynload', '', '/Users/paras/Library/CloudStorage/OneDrive-Nexus365/Oxford/Y3/B1/Scientific Coding/Scientific Coding Practical/B1 Coding Practical MT24/myvenv/lib/python3.9/site-packages']\n"
     ]
    }
   ],
   "source": [
    "# You can double-check your Python path like this...\n",
    "import sys  \n",
    "print(sys.path)"
   ]
  },
  {
   "cell_type": "code",
   "execution_count": 41,
   "metadata": {},
   "outputs": [
    {
     "name": "stdout",
     "output_type": "stream",
     "text": [
      "number of rows  100\n",
      "Reference Depths: [ 0.          2.9239131   5.51432416  7.48758532  8.65202856  8.9358434\n",
      "  8.39641558  7.20973438  5.64159015  4.00512537  2.61142659  1.72091746\n",
      "  1.5031691   2.01140425  3.17564866  4.81554192  6.67072159  8.44392729\n",
      "  9.84996868 10.66277828 10.75307162 10.11061551  8.84752915  7.18203021\n",
      "  5.40512093  3.83540296  2.76909013  2.43306084  2.94833378  4.30973288\n",
      "  6.38498424  8.93345286 11.64165764 14.17007897 16.20400695 17.50054627\n",
      " 17.92449464 17.46755263 16.24792901 14.49047024 12.49048405 10.56696897\n",
      "  9.01260615  8.04835863  7.78978173  8.23029238  9.24396757 10.6073632\n",
      " 12.03684862 13.23550874 13.94215995 13.97469282 13.26084805 11.85151023\n",
      "  9.91435723  7.70879856  5.54608736  3.74083483  2.56152303  2.1877885\n",
      "  2.68120511  3.97419381  5.87885843  8.11443358 10.34912038 12.24983594\n",
      " 13.53216395 14.00276265 13.5876664  12.34212299 10.44049644  8.14787894\n",
      "  5.7779107   3.64345268  2.00786033  1.04449325  0.81078468  1.24089274\n",
      "  2.15802395  3.30441962  4.38421409  5.11234706  5.26175961  4.70137351\n",
      "  3.41880424  1.52416192 -0.76572642 -3.16025378 -5.34000027 -7.00669625\n",
      " -7.93034399 -7.98608799 -7.17501385 -5.62556132 -3.57526373 -1.33560145\n",
      "  0.75460261  2.38002517  3.29603886  3.36494997]\n",
      "Cave Heights: [30.         29.1612757  27.95432371 31.84808307 29.37818486 25.27534783\n",
      " 24.38569495 17.12130565 21.42218238 14.07770057  9.31167906 17.30453761\n",
      " 18.04258429 13.80638728 13.65092548 21.34658721 18.26466944 23.65180987\n",
      " 30.64954658 31.32623147 26.78523018 31.0937281  25.18753312 18.40172099\n",
      " 20.05963077 23.99504025 22.2065633  22.88050411 26.21701772 19.24467403\n",
      " 19.37212799 26.92528802 24.83739531 29.03085921 34.84534492 29.54832571\n",
      " 31.54005596 37.25419248 28.75835967 30.56073552 25.68183874 25.91060678\n",
      " 25.95640903 22.75561528 24.73883269 19.95637585 27.84941028 31.02058763\n",
      " 26.55477731 26.61281945 27.53430366 26.76298091 29.38225215 30.63927406\n",
      " 33.10956822 33.01663938 26.16474986 23.78722065 24.39922357 18.60402312\n",
      " 15.79334558 13.83053667 12.74624188 17.30387203 23.25480998 20.96471202\n",
      " 22.38694481 25.10587873 24.84982899 26.9842448  21.07375237 25.18518059\n",
      " 24.74688217 22.8845309  24.5795913  18.68969175 20.55684315 20.70466556\n",
      " 14.27287334 18.55214166 17.47824109 20.98496908 25.72228433 17.60286966\n",
      " 19.86408969 16.79728658 16.4089438  15.9656464  12.57948414  5.19059964\n",
      " 10.2645397   7.95954846  7.07875615  6.68154009  7.14042961 13.54968313\n",
      " 18.53576684 14.96028381 20.57018458 18.55619939]\n",
      "Cave Depths: [-30.         -18.13323115  -8.65924265 -10.29447509  -2.49673938\n",
      "  -7.99366997  -9.15432085  -6.60422165  -5.7367697  -11.69804735\n",
      " -14.1971192  -17.73443807 -14.08718225 -10.22767584  -6.84772735\n",
      "  -9.64972968  -9.40558593  -4.76675571  -5.58868849  -6.76393699\n",
      "  -6.22528966  -0.51996622   1.21703996  -3.23239853  -7.5921609\n",
      " -15.52448189 -15.90033158 -17.66642465 -11.58860961 -15.9129932\n",
      " -17.63894849  -6.37351003  -7.00788276   1.5636873   -1.87542467\n",
      "   3.61503764   7.22965884   8.44814606   6.4475312    1.12542472\n",
      "  -2.86478151  -9.68100431 -12.15090771  -7.89818153 -12.06555766\n",
      "  -9.8224301   -6.82934242  -3.18514112  -0.16423796   5.25716954\n",
      "   4.04532149   5.98604225   7.07907409  -2.32274126  -4.81367317\n",
      " -12.27951187 -11.92706218  -7.00987569 -11.27848508  -8.26471867\n",
      "  -4.29755302  -2.8536037   -9.47422507  -8.61742199  -7.84519866\n",
      "  -7.23979329  -6.56893052  -9.78714305  -3.27182257  -1.18039978\n",
      "  -0.78663145   0.46198735  -6.18090712 -15.47193333 -12.56382962\n",
      " -14.49766547 -18.20382912 -20.32167954 -13.27609529 -16.77713625\n",
      "  -8.21367242  -9.02800534  -8.29502271  -8.3125536   -7.240919\n",
      "  -6.37494122 -12.04759902 -21.37427841 -26.90419882 -28.87257404\n",
      " -29.64488855 -22.88976251 -27.62587686 -29.34945919 -24.12111196\n",
      " -22.53970617 -13.08977495 -15.1849507  -12.68542683 -14.61710589]\n"
     ]
    }
   ],
   "source": [
    "\"\"\"\n",
    "Testing part 3: Mission data extraction using pandas\n",
    "\"\"\"\n",
    "\n",
    "if __name__ == \"__main__\":\n",
    "    # Use the absolute path to the mission.csv file\n",
    "    mission_file = \"/Users/paras/Library/CloudStorage/OneDrive-Nexus365/Oxford/Y3/B1/Scientific Coding/Scientific Coding Practical/B1 Coding Practical MT24/data/mission.csv\"\n",
    "    \n",
    "    # Call the from_csv method to load the mission data\n",
    "    mission = Mission.from_csv(mission_file)\n",
    "    \n",
    "    # Print out the loaded data to verify\n",
    "    print(\"Reference Depths:\", mission.reference)\n",
    "    print(\"Cave Heights:\", mission.cave_height)\n",
    "    print(\"Cave Depths:\", mission.cave_depth)"
   ]
  },
  {
   "cell_type": "markdown",
   "metadata": {},
   "source": [
    "print()"
   ]
  },
  {
   "cell_type": "markdown",
   "metadata": {},
   "source": []
  },
  {
   "cell_type": "markdown",
   "metadata": {},
   "source": [
    "# Simulate closed-loop\n",
    "After implementing your control functionality, you can simulate the closed-loop with code that looks something like this..."
   ]
  },
  {
   "cell_type": "code",
   "execution_count": 42,
   "metadata": {},
   "outputs": [
    {
     "ename": "NameError",
     "evalue": "name 'ClosedLoop' is not defined",
     "output_type": "error",
     "traceback": [
      "\u001b[0;31m---------------------------------------------------------------------------\u001b[0m",
      "\u001b[0;31mNameError\u001b[0m                                 Traceback (most recent call last)",
      "Cell \u001b[0;32mIn[42], line 5\u001b[0m\n\u001b[1;32m      3\u001b[0m sub \u001b[38;5;241m=\u001b[39m Submarine()\n\u001b[1;32m      4\u001b[0m \u001b[38;5;66;03m# Instantiate your controller (depending on your implementation)\u001b[39;00m\n\u001b[0;32m----> 5\u001b[0m closed_loop \u001b[38;5;241m=\u001b[39m \u001b[43mClosedLoop\u001b[49m(sub, controller)\n\u001b[1;32m      6\u001b[0m mission \u001b[38;5;241m=\u001b[39m Mission\u001b[38;5;241m.\u001b[39mfrom_csv(\u001b[38;5;124m\"\u001b[39m\u001b[38;5;124mpath/to/file\u001b[39m\u001b[38;5;124m\"\u001b[39m) \u001b[38;5;66;03m# You must implement this method in the Mission class\u001b[39;00m\n\u001b[1;32m      8\u001b[0m trajectory \u001b[38;5;241m=\u001b[39m closed_loop\u001b[38;5;241m.\u001b[39msimulate_with_random_disturbances(mission)\n",
      "\u001b[0;31mNameError\u001b[0m: name 'ClosedLoop' is not defined"
     ]
    }
   ],
   "source": [
    "# Import relevant modules\n",
    "\n",
    "sub = Submarine()\n",
    "# Instantiate your controller (depending on your implementation)\n",
    "closed_loop = ClosedLoop(sub, controller)\n",
    "mission = Mission.from_csv(\"path/to/file\") # You must implement this method in the Mission class\n",
    "\n",
    "trajectory = closed_loop.simulate_with_random_disturbances(mission)\n",
    "trajectory.plot_completed_mission(mission)"
   ]
  }
 ],
 "metadata": {
  "kernelspec": {
   "display_name": "myvenv",
   "language": "python",
   "name": "python3"
  },
  "language_info": {
   "codemirror_mode": {
    "name": "ipython",
    "version": 3
   },
   "file_extension": ".py",
   "mimetype": "text/x-python",
   "name": "python",
   "nbconvert_exporter": "python",
   "pygments_lexer": "ipython3",
   "version": "3.9.6"
  }
 },
 "nbformat": 4,
 "nbformat_minor": 2
}
